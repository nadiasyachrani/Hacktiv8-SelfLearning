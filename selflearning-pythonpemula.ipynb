{
 "cells": [
  {
   "cell_type": "markdown",
   "id": "0cb48d5b-d943-4f32-9efb-04fc3f601d79",
   "metadata": {},
   "source": [
    "# MENGUASAI PYTHON TINGKAT PEMULA"
   ]
  },
  {
   "cell_type": "markdown",
   "id": "9361ab79-5f27-4ce4-83f9-76e88433e355",
   "metadata": {
    "tags": []
   },
   "source": [
    "# LIST"
   ]
  },
  {
   "cell_type": "code",
   "execution_count": 1,
   "id": "e1bf5be1-1dfe-41c7-b7ae-d43dae47a351",
   "metadata": {},
   "outputs": [
    {
     "name": "stdout",
     "output_type": "stream",
     "text": [
      "[1, 2, 3]\n"
     ]
    }
   ],
   "source": [
    "my_list=[1,2,3]\n",
    "print(my_list)"
   ]
  },
  {
   "cell_type": "code",
   "execution_count": 2,
   "id": "9abbee9d-bc72-43b2-9f9d-1b4b2e926257",
   "metadata": {},
   "outputs": [
    {
     "name": "stdout",
     "output_type": "stream",
     "text": [
      "[1, 2, 3]\n"
     ]
    }
   ],
   "source": [
    "my_list + [4,5]\n",
    "print(my_list)"
   ]
  },
  {
   "cell_type": "code",
   "execution_count": 3,
   "id": "11e6bae4-1373-4461-820b-2c0b4288e164",
   "metadata": {},
   "outputs": [
    {
     "name": "stdout",
     "output_type": "stream",
     "text": [
      "[1, 2, 3, 1, 2, 3]\n"
     ]
    }
   ],
   "source": [
    "print(my_list * 2)"
   ]
  },
  {
   "cell_type": "code",
   "execution_count": 13,
   "id": "1dc3b945-d78b-42be-8ae2-b2668354c140",
   "metadata": {},
   "outputs": [
    {
     "name": "stdout",
     "output_type": "stream",
     "text": [
      "[1, 2, 3, 4, 4]\n"
     ]
    }
   ],
   "source": [
    "my_list.append(4)\n",
    "print(my_list)"
   ]
  },
  {
   "cell_type": "code",
   "execution_count": 14,
   "id": "64e84d71-657a-4d61-8f43-e48b24cad751",
   "metadata": {},
   "outputs": [
    {
     "name": "stdout",
     "output_type": "stream",
     "text": [
      "[1, 2, 3]\n"
     ]
    }
   ],
   "source": [
    "my_list=[1,2,3]\n",
    "print(my_list)"
   ]
  },
  {
   "cell_type": "code",
   "execution_count": 15,
   "id": "3d4cafad-fa2c-4ebf-820b-e8710c94ac4a",
   "metadata": {},
   "outputs": [
    {
     "name": "stdout",
     "output_type": "stream",
     "text": [
      "[1, 2, 3, 4, 5, 6]\n"
     ]
    }
   ],
   "source": [
    "my_list.extend([4,5,6])\n",
    "print(my_list)"
   ]
  },
  {
   "cell_type": "code",
   "execution_count": 18,
   "id": "fb655670-a716-4afd-9acf-8c02cc7c3996",
   "metadata": {},
   "outputs": [
    {
     "name": "stdout",
     "output_type": "stream",
     "text": [
      "[1, 2, 3, 6]\n"
     ]
    }
   ],
   "source": [
    "my_list.remove(5)\n",
    "print(my_list)"
   ]
  },
  {
   "cell_type": "markdown",
   "id": "55eb1399-73c0-47c5-a729-5267f87879ad",
   "metadata": {},
   "source": [
    "# DICTIONARIES"
   ]
  },
  {
   "cell_type": "code",
   "execution_count": 1,
   "id": "c98be79a-ef36-44f7-b930-dda91c66d947",
   "metadata": {},
   "outputs": [
    {
     "data": {
      "text/plain": [
       "{'name': 'nadia', 'age': 20}"
      ]
     },
     "execution_count": 1,
     "metadata": {},
     "output_type": "execute_result"
    }
   ],
   "source": [
    "student = {'name':'nadia','age':20}\n",
    "student"
   ]
  },
  {
   "cell_type": "code",
   "execution_count": 2,
   "id": "139c3f3b-581f-47ee-aae8-8a58ed53a2a7",
   "metadata": {},
   "outputs": [
    {
     "data": {
      "text/plain": [
       "{'cto': {'name': 'nadia', 'age': 20}}"
      ]
     },
     "execution_count": 2,
     "metadata": {},
     "output_type": "execute_result"
    }
   ],
   "source": [
    "employee = {'cto':{'name':'nadia','age':20}}\n",
    "employee"
   ]
  },
  {
   "cell_type": "code",
   "execution_count": 3,
   "id": "f301fc42-a71d-4ccd-b35f-251bd22a309a",
   "metadata": {},
   "outputs": [
    {
     "data": {
      "text/plain": [
       "{'name': 'dia', 'age': 22}"
      ]
     },
     "execution_count": 3,
     "metadata": {},
     "output_type": "execute_result"
    }
   ],
   "source": [
    "student = dict(name='dia',age=22)\n",
    "student"
   ]
  },
  {
   "cell_type": "code",
   "execution_count": 5,
   "id": "e11c415c-1807-4e7e-a2a3-3f85671efc3f",
   "metadata": {},
   "outputs": [
    {
     "name": "stdout",
     "output_type": "stream",
     "text": [
      "dia\n"
     ]
    }
   ],
   "source": [
    "print(student['name'])"
   ]
  },
  {
   "cell_type": "code",
   "execution_count": 6,
   "id": "21931967-f23b-4c98-a382-f3ed0757f480",
   "metadata": {},
   "outputs": [
    {
     "name": "stdout",
     "output_type": "stream",
     "text": [
      "{'name': 'dia'}\n"
     ]
    }
   ],
   "source": [
    "del student['age']\n",
    "print(student)"
   ]
  },
  {
   "cell_type": "code",
   "execution_count": 8,
   "id": "771230bc-2d82-4821-8831-9d6a4e17957a",
   "metadata": {},
   "outputs": [
    {
     "name": "stdout",
     "output_type": "stream",
     "text": [
      "dict_keys(['name', 'age'])\n"
     ]
    }
   ],
   "source": [
    "student = {'name':'nadia','age':20}\n",
    "print(student.keys())"
   ]
  },
  {
   "cell_type": "code",
   "execution_count": 9,
   "id": "e8f67994-3dc1-48f9-ab9a-cf796752cd8a",
   "metadata": {},
   "outputs": [
    {
     "name": "stdout",
     "output_type": "stream",
     "text": [
      "dict_values(['nadia', 20])\n"
     ]
    }
   ],
   "source": [
    "print(student.values())"
   ]
  },
  {
   "cell_type": "markdown",
   "id": "b521050f-f00e-4d26-9751-59166aeaef45",
   "metadata": {},
   "source": [
    "# TUPLES"
   ]
  },
  {
   "cell_type": "code",
   "execution_count": 10,
   "id": "d05e84f3-eea3-4831-9c58-2799193df8e9",
   "metadata": {},
   "outputs": [
    {
     "name": "stdout",
     "output_type": "stream",
     "text": [
      "('nadia', ('kode', 'random'))\n"
     ]
    }
   ],
   "source": [
    "people=('nadia',('kode','random'))\n",
    "print(people)"
   ]
  },
  {
   "cell_type": "code",
   "execution_count": 11,
   "id": "ac9ca883-3552-4dc1-aaf9-afe4d27c707e",
   "metadata": {},
   "outputs": [
    {
     "name": "stdout",
     "output_type": "stream",
     "text": [
      "nadia\n"
     ]
    }
   ],
   "source": [
    "print(people[0])"
   ]
  },
  {
   "cell_type": "code",
   "execution_count": 12,
   "id": "18ea6a45-04eb-4416-87cb-635181f51084",
   "metadata": {},
   "outputs": [
    {
     "name": "stdout",
     "output_type": "stream",
     "text": [
      "('kode', 'random')\n"
     ]
    }
   ],
   "source": [
    "print(people[1])"
   ]
  },
  {
   "cell_type": "code",
   "execution_count": 13,
   "id": "937ba269-b5b5-4003-8ce7-15ab447de0de",
   "metadata": {},
   "outputs": [
    {
     "name": "stdout",
     "output_type": "stream",
     "text": [
      "kode\n"
     ]
    }
   ],
   "source": [
    "print(people[1][0])"
   ]
  },
  {
   "cell_type": "markdown",
   "id": "eb019570-f616-4a41-b07e-406534ad7e85",
   "metadata": {},
   "source": [
    "## slicing"
   ]
  },
  {
   "cell_type": "code",
   "execution_count": 14,
   "id": "0d70bd98-40ba-404e-905f-b38d711ebff0",
   "metadata": {},
   "outputs": [
    {
     "name": "stdout",
     "output_type": "stream",
     "text": [
      "(1, (2, 3))\n"
     ]
    }
   ],
   "source": [
    "numbers=(1,2,3,4)\n",
    "new_numbers=numbers[0], numbers[1:3]\n",
    "print(new_numbers)"
   ]
  },
  {
   "cell_type": "markdown",
   "id": "96c69bd8-fc6a-427f-96d2-f735f1367998",
   "metadata": {},
   "source": [
    "## sorting"
   ]
  },
  {
   "cell_type": "code",
   "execution_count": 15,
   "id": "f3d9fa7c-fa8e-4e60-aa4e-6f67149a94f4",
   "metadata": {},
   "outputs": [
    {
     "name": "stdout",
     "output_type": "stream",
     "text": [
      "['bcc', 'body', 'cc', 'from', 'subject', 'to']\n"
     ]
    }
   ],
   "source": [
    "email_attr=('to','from','cc','bcc','subject','body')\n",
    "email_attr_list=list(email_attr)\n",
    "email_attr_list.sort()\n",
    "print(email_attr_list)"
   ]
  },
  {
   "cell_type": "markdown",
   "id": "303a6724-4fb5-4c24-bb16-0497fbff62f8",
   "metadata": {},
   "source": [
    "# FILES"
   ]
  },
  {
   "cell_type": "code",
   "execution_count": 16,
   "id": "5afe84b5-cbaf-417e-b2a6-bd5ace2707f5",
   "metadata": {},
   "outputs": [],
   "source": [
    "myfile=open('nad.txt','w')"
   ]
  },
  {
   "cell_type": "markdown",
   "id": "796381c8-9643-4f0e-b434-282f05987f9d",
   "metadata": {},
   "source": [
    "### menambahkan text didalam file"
   ]
  },
  {
   "cell_type": "code",
   "execution_count": 17,
   "id": "3c1ab0cf-977e-4ebf-835f-18b345b425a3",
   "metadata": {},
   "outputs": [
    {
     "data": {
      "text/plain": [
       "9"
      ]
     },
     "execution_count": 17,
     "metadata": {},
     "output_type": "execute_result"
    }
   ],
   "source": [
    "myfile.write('hei you!\\n')"
   ]
  },
  {
   "cell_type": "code",
   "execution_count": 18,
   "id": "4e4ff926-164d-4999-b94e-f2f3baf5d966",
   "metadata": {},
   "outputs": [
    {
     "data": {
      "text/plain": [
       "9"
      ]
     },
     "execution_count": 18,
     "metadata": {},
     "output_type": "execute_result"
    }
   ],
   "source": [
    "myfile.write('see you!\\n')"
   ]
  },
  {
   "cell_type": "markdown",
   "id": "64a24bb0-2a01-4a57-a2c3-8073793160eb",
   "metadata": {},
   "source": [
    "### menutup file"
   ]
  },
  {
   "cell_type": "code",
   "execution_count": 19,
   "id": "6c1b6a5f-49b5-4465-8f86-657ebb81d8f6",
   "metadata": {},
   "outputs": [],
   "source": [
    "myfile.close()"
   ]
  },
  {
   "cell_type": "markdown",
   "id": "b82cc0a2-a9f5-45da-a95c-fdd10b2d5999",
   "metadata": {},
   "source": [
    "### membuka kembali file"
   ]
  },
  {
   "cell_type": "code",
   "execution_count": 20,
   "id": "4e709029-5347-4ab3-a89d-dc2b2b7c77fa",
   "metadata": {},
   "outputs": [],
   "source": [
    "myfile=open('nad.txt')"
   ]
  },
  {
   "cell_type": "code",
   "execution_count": 21,
   "id": "40b96201-404f-4c66-a284-da74732eb136",
   "metadata": {},
   "outputs": [
    {
     "data": {
      "text/plain": [
       "'hei you!\\n'"
      ]
     },
     "execution_count": 21,
     "metadata": {},
     "output_type": "execute_result"
    }
   ],
   "source": [
    "myfile.readline()"
   ]
  },
  {
   "cell_type": "code",
   "execution_count": 22,
   "id": "47a2a76b-9a87-4732-87aa-e3cc454cab3a",
   "metadata": {},
   "outputs": [
    {
     "data": {
      "text/plain": [
       "'see you!\\n'"
      ]
     },
     "execution_count": 22,
     "metadata": {},
     "output_type": "execute_result"
    }
   ],
   "source": [
    "myfile.readline()"
   ]
  },
  {
   "cell_type": "markdown",
   "id": "7e47b328-49b5-4890-81e9-881110d4d9fd",
   "metadata": {},
   "source": [
    "### membaca isi file secara keseluruhan"
   ]
  },
  {
   "cell_type": "code",
   "execution_count": 23,
   "id": "2868fcb6-26ff-4d28-80de-28a871ca1c28",
   "metadata": {},
   "outputs": [
    {
     "data": {
      "text/plain": [
       "'hei you!\\nsee you!\\n'"
      ]
     },
     "execution_count": 23,
     "metadata": {},
     "output_type": "execute_result"
    }
   ],
   "source": [
    "open('nad.txt').read()"
   ]
  },
  {
   "cell_type": "code",
   "execution_count": 24,
   "id": "14fb4507-dac9-4021-9180-55ccfe577334",
   "metadata": {},
   "outputs": [
    {
     "name": "stdout",
     "output_type": "stream",
     "text": [
      "hei you!\n",
      "see you!\n",
      "\n"
     ]
    }
   ],
   "source": [
    "print(open('nad.txt').read())"
   ]
  },
  {
   "cell_type": "markdown",
   "id": "b5a963fb-78b5-4054-be13-e3215daf8064",
   "metadata": {},
   "source": [
    "### menambahkan isi file dengan berbagai tipe data"
   ]
  },
  {
   "cell_type": "code",
   "execution_count": 25,
   "id": "e45f8822-453d-4f5d-a99d-bf0770c7c342",
   "metadata": {},
   "outputs": [
    {
     "data": {
      "text/plain": [
       "5"
      ]
     },
     "execution_count": 25,
     "metadata": {},
     "output_type": "execute_result"
    }
   ],
   "source": [
    "x,y,z=43,44,45\n",
    "message='spam'\n",
    "data={'a':1,'b':2}\n",
    "list=[1,2,3]\n",
    "file=open('nad.txt','w')\n",
    "file.write(message + '\\n')"
   ]
  },
  {
   "cell_type": "code",
   "execution_count": 28,
   "id": "46a30115-4910-4dfe-9eed-9b91744f37ce",
   "metadata": {},
   "outputs": [
    {
     "data": {
      "text/plain": [
       "9"
      ]
     },
     "execution_count": 28,
     "metadata": {},
     "output_type": "execute_result"
    }
   ],
   "source": [
    "file.write('%s,%s,%s\\n' % (x,y,z))"
   ]
  },
  {
   "cell_type": "code",
   "execution_count": 29,
   "id": "84a8742c-c9e2-4212-a162-85f7ac12c937",
   "metadata": {},
   "outputs": [
    {
     "data": {
      "text/plain": [
       "27"
      ]
     },
     "execution_count": 29,
     "metadata": {},
     "output_type": "execute_result"
    }
   ],
   "source": [
    "file.write(str(list) + '$' + str(data) + '\\n')"
   ]
  },
  {
   "cell_type": "code",
   "execution_count": 30,
   "id": "7ec71b55-5edc-4961-ba4a-25c3c37f0c83",
   "metadata": {},
   "outputs": [],
   "source": [
    "file.close()"
   ]
  },
  {
   "cell_type": "markdown",
   "id": "93202ca6-4a26-4241-a604-ba18656a5c9a",
   "metadata": {},
   "source": [
    "# WHILE LOOPS"
   ]
  },
  {
   "cell_type": "code",
   "execution_count": 1,
   "id": "b7d61738-c4a2-48ab-b290-676632b75707",
   "metadata": {},
   "outputs": [
    {
     "name": "stdout",
     "output_type": "stream",
     "text": [
      "spam pam am m "
     ]
    }
   ],
   "source": [
    "message = \"spam\"\n",
    "while message != \"\":\n",
    "    print(message, end=\" \")\n",
    "    message=message[1:]"
   ]
  },
  {
   "cell_type": "code",
   "execution_count": 2,
   "id": "39bc096e-0ea7-48a8-8450-72e00ecdae65",
   "metadata": {},
   "outputs": [
    {
     "name": "stdout",
     "output_type": "stream",
     "text": [
      "0 1 2 3 4 5 6 7 8 9 10 11 12 "
     ]
    }
   ],
   "source": [
    "a=0\n",
    "b=13\n",
    "while a<b:\n",
    "    print(a, end=\" \")\n",
    "    a=a+1"
   ]
  },
  {
   "cell_type": "code",
   "execution_count": 4,
   "id": "fa84e2f4-8c86-45a5-9764-85cc84e336e6",
   "metadata": {},
   "outputs": [
    {
     "name": "stdin",
     "output_type": "stream",
     "text": [
      "enter name :  nadia\n",
      "enter age :  20\n"
     ]
    },
    {
     "name": "stdout",
     "output_type": "stream",
     "text": [
      "hello nadia => 400\n"
     ]
    },
    {
     "name": "stdin",
     "output_type": "stream",
     "text": [
      "enter name :  dia\n",
      "enter age :  22\n"
     ]
    },
    {
     "name": "stdout",
     "output_type": "stream",
     "text": [
      "hello dia => 484\n"
     ]
    },
    {
     "name": "stdin",
     "output_type": "stream",
     "text": [
      "enter name :  stop\n"
     ]
    }
   ],
   "source": [
    "while True:\n",
    "    name=input('enter name : ')\n",
    "    if name == 'stop' : break\n",
    "    age = input('enter age : ')\n",
    "    print('hello', name, '=>', int(age) ** 2)"
   ]
  },
  {
   "cell_type": "code",
   "execution_count": 5,
   "id": "42551adf-9bef-40c1-862c-47bb3aa77173",
   "metadata": {},
   "outputs": [
    {
     "name": "stdout",
     "output_type": "stream",
     "text": [
      "100\n"
     ]
    }
   ],
   "source": [
    "x=0\n",
    "while (x<100):\n",
    "    x+=2\n",
    "print(x)"
   ]
  },
  {
   "cell_type": "markdown",
   "id": "49b5b9cd-687a-4b46-a9e5-66cd26449846",
   "metadata": {},
   "source": [
    "# FOR LOOPS"
   ]
  },
  {
   "cell_type": "code",
   "execution_count": 6,
   "id": "105f79f7-55d5-4fd5-a3dc-1cceb6007302",
   "metadata": {},
   "outputs": [
    {
     "name": "stdout",
     "output_type": "stream",
     "text": [
      "I, d, a, z, "
     ]
    }
   ],
   "source": [
    "for l in 'Idaz' :\n",
    "    if l =='a':\n",
    "        pass\n",
    "    print(l, end=\", \")"
   ]
  },
  {
   "cell_type": "code",
   "execution_count": 7,
   "id": "eeb1b4a9-a0b3-46b2-ba58-ea9d16fc3689",
   "metadata": {},
   "outputs": [
    {
     "name": "stdout",
     "output_type": "stream",
     "text": [
      "nadia\n",
      "dia\n",
      "kode\n"
     ]
    }
   ],
   "source": [
    "for word in ['nadia','dia','kode']:\n",
    "    print(word, end='\\n')"
   ]
  },
  {
   "cell_type": "code",
   "execution_count": 8,
   "id": "8fb35a21-2eb0-42e2-b105-3c126332892b",
   "metadata": {},
   "outputs": [
    {
     "data": {
      "text/plain": [
       "10"
      ]
     },
     "execution_count": 8,
     "metadata": {},
     "output_type": "execute_result"
    }
   ],
   "source": [
    "sum=0\n",
    "for i in [1,2,3,4]:\n",
    "    sum = sum + i\n",
    "sum"
   ]
  },
  {
   "cell_type": "code",
   "execution_count": 9,
   "id": "11269fc3-0bca-43a1-a3c6-e2e34ddfd2d5",
   "metadata": {},
   "outputs": [
    {
     "data": {
      "text/plain": [
       "24"
      ]
     },
     "execution_count": 9,
     "metadata": {},
     "output_type": "execute_result"
    }
   ],
   "source": [
    "prod = 1\n",
    "for item in [1,2,3,4]: prod *= item\n",
    "prod"
   ]
  },
  {
   "cell_type": "code",
   "execution_count": 10,
   "id": "a1752ea5-1a1c-46d9-8ec3-2304435a4508",
   "metadata": {},
   "outputs": [
    {
     "name": "stdout",
     "output_type": "stream",
     "text": [
      "f o x y   f o x "
     ]
    }
   ],
   "source": [
    "text = 'foxy fox'\n",
    "words = ('is', 'great', 'animal')\n",
    "for chara in text: print(chara, end=' ')"
   ]
  },
  {
   "cell_type": "code",
   "execution_count": 11,
   "id": "07dd577f-80e1-4911-8a1d-145b5e2b5d47",
   "metadata": {},
   "outputs": [
    {
     "name": "stdout",
     "output_type": "stream",
     "text": [
      "is...great...animal..."
     ]
    }
   ],
   "source": [
    "for word in words: print(word, end='...')"
   ]
  },
  {
   "cell_type": "code",
   "execution_count": 12,
   "id": "7645c880-1a98-40d6-8719-58415601a93a",
   "metadata": {},
   "outputs": [
    {
     "name": "stdout",
     "output_type": "stream",
     "text": [
      "1 2\n",
      "3 4\n",
      "5 6\n"
     ]
    }
   ],
   "source": [
    "coor = [(1,2),(3,4),(5,6)]\n",
    "for (x,y) in coor: print(x,y)"
   ]
  },
  {
   "cell_type": "markdown",
   "id": "bed4aa1b-41e9-46ea-8bce-18a56e24abbd",
   "metadata": {},
   "source": [
    "# IF STATEMENT"
   ]
  },
  {
   "cell_type": "code",
   "execution_count": 1,
   "id": "e31de022-2d01-453f-808a-9767a510394c",
   "metadata": {},
   "outputs": [
    {
     "name": "stdout",
     "output_type": "stream",
     "text": [
      "true\n"
     ]
    }
   ],
   "source": [
    "if 1:\n",
    "    print('true')"
   ]
  },
  {
   "cell_type": "code",
   "execution_count": 2,
   "id": "e6780bd1-6bc0-404c-9818-1e040ce66ecb",
   "metadata": {},
   "outputs": [
    {
     "name": "stdout",
     "output_type": "stream",
     "text": [
      "false\n"
     ]
    }
   ],
   "source": [
    "if not 1:\n",
    "    print('true')\n",
    "else:\n",
    "    print('false')"
   ]
  },
  {
   "cell_type": "code",
   "execution_count": 5,
   "id": "acffffe7-fbbb-4828-97ad-81b9723aa322",
   "metadata": {},
   "outputs": [
    {
     "name": "stdin",
     "output_type": "stream",
     "text": [
      "enter your age :  50\n"
     ]
    },
    {
     "name": "stdout",
     "output_type": "stream",
     "text": [
      "lots of time left!\n"
     ]
    }
   ],
   "source": [
    "age = input('enter your age : ')\n",
    "if int(age)* 365 > 20000:\n",
    "    print('time to retire!')\n",
    "elif int(age) * 365 > 10000:\n",
    "    print('lots of time left!')\n",
    "else:\n",
    "    print('time to get started!')"
   ]
  },
  {
   "cell_type": "code",
   "execution_count": 10,
   "id": "323227f4-ffbf-4382-b11e-9e22298e05e6",
   "metadata": {},
   "outputs": [
    {
     "name": "stdin",
     "output_type": "stream",
     "text": [
      "enter your age :  17\n"
     ]
    },
    {
     "name": "stdout",
     "output_type": "stream",
     "text": [
      "you are a young padawan\n"
     ]
    }
   ],
   "source": [
    "user_age=input('enter your age : ')\n",
    "ages=int(user_age)*365\n",
    "if ages>=9490:\n",
    "    print('you are a jedi master now. go learn master yoda!')\n",
    "elif ages>=8395 and ages<9490:\n",
    "    print('becoming jedi knight')\n",
    "else:\n",
    "    print('you are a young padawan')"
   ]
  },
  {
   "cell_type": "code",
   "execution_count": 12,
   "id": "a081fce7-175c-4f46-998d-a2036a4778e4",
   "metadata": {},
   "outputs": [],
   "source": [
    "x=10\n",
    "y=50\n",
    "if (x**2>100 and y<100):\n",
    "    print(x,y)"
   ]
  },
  {
   "cell_type": "code",
   "execution_count": 13,
   "id": "ddd2c8b1-b27c-43d7-8de5-88929fd5e712",
   "metadata": {},
   "outputs": [
    {
     "name": "stdout",
     "output_type": "stream",
     "text": [
      "hai\n"
     ]
    }
   ],
   "source": [
    "print('hai')"
   ]
  },
  {
   "cell_type": "markdown",
   "id": "bef049a1-59b4-4b79-ac02-4be1f0f02bdc",
   "metadata": {},
   "source": [
    "# FUNCTION"
   ]
  },
  {
   "cell_type": "code",
   "execution_count": 14,
   "id": "54ff3468-6241-4e9c-b5ae-b7f0e86572eb",
   "metadata": {},
   "outputs": [
    {
     "data": {
      "text/plain": [
       "9"
      ]
     },
     "execution_count": 14,
     "metadata": {},
     "output_type": "execute_result"
    }
   ],
   "source": [
    "def add(a, b):\n",
    "    return a+b \n",
    "add(5, 4)"
   ]
  },
  {
   "cell_type": "code",
   "execution_count": 15,
   "id": "3b4f1060-0001-49b7-a7cc-1fd503b5f79d",
   "metadata": {},
   "outputs": [],
   "source": [
    "add_things = add(10,4)"
   ]
  },
  {
   "cell_type": "code",
   "execution_count": 16,
   "id": "5d531ff5-6c69-40a5-a1e6-4cda5a37e74b",
   "metadata": {},
   "outputs": [
    {
     "name": "stdout",
     "output_type": "stream",
     "text": [
      "14\n"
     ]
    }
   ],
   "source": [
    "print(add_things)"
   ]
  },
  {
   "cell_type": "code",
   "execution_count": 17,
   "id": "ad9f4d06-b924-415d-ae4e-34d49479be50",
   "metadata": {},
   "outputs": [],
   "source": [
    "def add_and_print(a, b):\n",
    "    print(a+b)"
   ]
  },
  {
   "cell_type": "code",
   "execution_count": 18,
   "id": "11f8ec64-e939-4a60-9e32-20e23498880e",
   "metadata": {},
   "outputs": [
    {
     "name": "stdout",
     "output_type": "stream",
     "text": [
      "4\n"
     ]
    }
   ],
   "source": [
    "add_and_print(1, 3)"
   ]
  },
  {
   "cell_type": "code",
   "execution_count": 19,
   "id": "e81110bc-c119-4710-8a64-acb2ee3de6fa",
   "metadata": {},
   "outputs": [
    {
     "name": "stdout",
     "output_type": "stream",
     "text": [
      "8\n"
     ]
    }
   ],
   "source": [
    "x=add_and_print(5, 3)"
   ]
  },
  {
   "cell_type": "code",
   "execution_count": 55,
   "id": "5a93b86c-f3c9-4476-9ea0-666440f75261",
   "metadata": {},
   "outputs": [
    {
     "ename": "NameError",
     "evalue": "name 'outer' is not defined",
     "output_type": "error",
     "traceback": [
      "\u001b[1;31m---------------------------------------------------------------------------\u001b[0m",
      "\u001b[1;31mNameError\u001b[0m                                 Traceback (most recent call last)",
      "\u001b[1;32m~\\AppData\\Local\\Temp\\ipykernel_19900\\591054298.py\u001b[0m in \u001b[0;36m<module>\u001b[1;34m\u001b[0m\n\u001b[0;32m      3\u001b[0m         \u001b[1;32mreturn\u001b[0m \u001b[0mc\u001b[0m \u001b[1;33m+\u001b[0m \u001b[0md\u001b[0m\u001b[1;33m\u001b[0m\u001b[1;33m\u001b[0m\u001b[0m\n\u001b[0;32m      4\u001b[0m     \u001b[1;32mreturn\u001b[0m \u001b[0minnerFun\u001b[0m\u001b[1;33m(\u001b[0m\u001b[0ma\u001b[0m\u001b[1;33m,\u001b[0m \u001b[0mb\u001b[0m\u001b[1;33m)\u001b[0m\u001b[1;33m\u001b[0m\u001b[1;33m\u001b[0m\u001b[0m\n\u001b[1;32m----> 5\u001b[1;33m \u001b[0mres\u001b[0m \u001b[1;33m=\u001b[0m \u001b[0mouter\u001b[0m\u001b[1;33m\u001b[0m\u001b[1;33m\u001b[0m\u001b[0m\n\u001b[0m\u001b[0;32m      6\u001b[0m \u001b[0mFun\u001b[0m\u001b[1;33m(\u001b[0m\u001b[1;36m5\u001b[0m\u001b[1;33m,\u001b[0m\u001b[1;36m10\u001b[0m\u001b[1;33m)\u001b[0m\u001b[1;33m\u001b[0m\u001b[1;33m\u001b[0m\u001b[0m\n\u001b[0;32m      7\u001b[0m \u001b[0mprint\u001b[0m\u001b[1;33m(\u001b[0m\u001b[0mres\u001b[0m\u001b[1;33m)\u001b[0m\u001b[1;33m\u001b[0m\u001b[1;33m\u001b[0m\u001b[0m\n",
      "\u001b[1;31mNameError\u001b[0m: name 'outer' is not defined"
     ]
    }
   ],
   "source": [
    "def outerFun(a, b):\n",
    "    def innerFun(c, d):\n",
    "        return c + d\n",
    "    return innerFun(a, b)\n",
    "res = outer\n",
    "Fun(5,10)\n",
    "print(res)"
   ]
  },
  {
   "cell_type": "markdown",
   "id": "916e4506-150a-473a-b318-a43ad113cdb7",
   "metadata": {},
   "source": [
    "# MODULES & BUILT IN FUNCTION"
   ]
  },
  {
   "cell_type": "code",
   "execution_count": 34,
   "id": "057723fc-45dd-4f85-a220-74b843e7f107",
   "metadata": {},
   "outputs": [
    {
     "name": "stdout",
     "output_type": "stream",
     "text": [
      "123\n"
     ]
    }
   ],
   "source": [
    "print(abs(-123))"
   ]
  },
  {
   "cell_type": "code",
   "execution_count": 35,
   "id": "42e75090-c19a-4975-b55c-ce5aee8d2afa",
   "metadata": {},
   "outputs": [
    {
     "name": "stdout",
     "output_type": "stream",
     "text": [
      "123\n"
     ]
    }
   ],
   "source": [
    "print(abs(123))"
   ]
  },
  {
   "cell_type": "code",
   "execution_count": 39,
   "id": "6d63fd6c-ee16-4213-b824-42345f5e74c9",
   "metadata": {},
   "outputs": [
    {
     "name": "stdout",
     "output_type": "stream",
     "text": [
      "True\n"
     ]
    }
   ],
   "source": [
    "numbers=[1,2,3]\n",
    "print(isinstance(numbers, list)) #apakah tipe datanya list?"
   ]
  },
  {
   "cell_type": "code",
   "execution_count": 38,
   "id": "650a4f87-317c-4102-9b71-0e3f528af3d1",
   "metadata": {},
   "outputs": [
    {
     "name": "stdout",
     "output_type": "stream",
     "text": [
      "False\n"
     ]
    }
   ],
   "source": [
    "print(isinstance(numbers, dict))"
   ]
  },
  {
   "cell_type": "code",
   "execution_count": 40,
   "id": "7394fbd6-bf13-4d5a-a554-10de895f16eb",
   "metadata": {},
   "outputs": [
    {
     "name": "stdout",
     "output_type": "stream",
     "text": [
      "True\n"
     ]
    }
   ],
   "source": [
    "number=22\n",
    "print(isinstance(numbers, list))"
   ]
  },
  {
   "cell_type": "code",
   "execution_count": 41,
   "id": "61cc5f4f-eede-4d71-9d1d-1bb6be95e6a6",
   "metadata": {},
   "outputs": [
    {
     "name": "stdout",
     "output_type": "stream",
     "text": [
      "False\n"
     ]
    }
   ],
   "source": [
    "print(isinstance(numbers, int))"
   ]
  },
  {
   "cell_type": "code",
   "execution_count": 42,
   "id": "458ec07f-7ec4-4596-87db-b6ce600ce991",
   "metadata": {},
   "outputs": [
    {
     "name": "stdout",
     "output_type": "stream",
     "text": [
      "6\n"
     ]
    }
   ],
   "source": [
    "numbers=[1,2,3,4,5,6]\n",
    "print(max(numbers))"
   ]
  },
  {
   "cell_type": "code",
   "execution_count": 43,
   "id": "157495ec-44d6-4110-82a2-ef5073ecd77c",
   "metadata": {},
   "outputs": [
    {
     "name": "stdout",
     "output_type": "stream",
     "text": [
      "1\n"
     ]
    }
   ],
   "source": [
    "print(min(numbers))"
   ]
  },
  {
   "cell_type": "code",
   "execution_count": 44,
   "id": "06d7ae3e-752a-437f-8ba4-07d7f8c1c9aa",
   "metadata": {},
   "outputs": [
    {
     "name": "stdout",
     "output_type": "stream",
     "text": [
      "z\n"
     ]
    }
   ],
   "source": [
    "alphas=['a','b','z']\n",
    "print(max(alphas))"
   ]
  },
  {
   "cell_type": "code",
   "execution_count": 46,
   "id": "4ba3ac14-4daa-4eb2-9342-afa020534d27",
   "metadata": {},
   "outputs": [
    {
     "name": "stdout",
     "output_type": "stream",
     "text": [
      "a\n"
     ]
    }
   ],
   "source": [
    "print(min(alphas))"
   ]
  },
  {
   "cell_type": "code",
   "execution_count": 47,
   "id": "05cb3722-6bf9-4bec-bbdf-e9e5a4b85436",
   "metadata": {},
   "outputs": [
    {
     "name": "stdout",
     "output_type": "stream",
     "text": [
      "2\n"
     ]
    }
   ],
   "source": [
    "language=['py','js','go','c']\n",
    "print(language.index('go'))"
   ]
  },
  {
   "cell_type": "code",
   "execution_count": 48,
   "id": "9588a358-414f-4deb-8ec0-975b1b1819e5",
   "metadata": {},
   "outputs": [
    {
     "name": "stdout",
     "output_type": "stream",
     "text": [
      "['c', 'go', 'js', 'py']\n"
     ]
    }
   ],
   "source": [
    "# mengurutkan\n",
    "language=['py','js','go','c']\n",
    "language.sort()\n",
    "print(language)"
   ]
  },
  {
   "cell_type": "code",
   "execution_count": 50,
   "id": "cda4a441-90b3-4a81-a808-643dd0c1150f",
   "metadata": {},
   "outputs": [
    {
     "name": "stdout",
     "output_type": "stream",
     "text": [
      "syachrani\n"
     ]
    }
   ],
   "source": [
    "name='syachrani'\n",
    "print(name)"
   ]
  },
  {
   "cell_type": "code",
   "execution_count": 51,
   "id": "bbe24ce6-7953-4829-bea1-de06ff8e7e07",
   "metadata": {},
   "outputs": [
    {
     "data": {
      "text/plain": [
       "'syichrini'"
      ]
     },
     "execution_count": 51,
     "metadata": {},
     "output_type": "execute_result"
    }
   ],
   "source": [
    "name.replace('a','i')"
   ]
  },
  {
   "cell_type": "code",
   "execution_count": 52,
   "id": "def71bd6-9757-46e3-a2fb-4526b6d843fc",
   "metadata": {},
   "outputs": [
    {
     "data": {
      "text/plain": [
       "'Syachrani'"
      ]
     },
     "execution_count": 52,
     "metadata": {},
     "output_type": "execute_result"
    }
   ],
   "source": [
    "name.capitalize()"
   ]
  },
  {
   "cell_type": "markdown",
   "id": "977a5d2b-e90b-402b-863e-3608e9cb8c01",
   "metadata": {},
   "source": [
    "# NUMPY (Numeric Python)\n",
    "didesain untuk menangani komputasi yang banyak dan kompleks, mudah digunakan dan cepat"
   ]
  },
  {
   "cell_type": "code",
   "execution_count": 57,
   "id": "b07c451a-a841-44a5-9914-a9ce612e2cc7",
   "metadata": {},
   "outputs": [
    {
     "ename": "TypeError",
     "evalue": "unsupported operand type(s) for ** or pow(): 'list' and 'int'",
     "output_type": "error",
     "traceback": [
      "\u001b[1;31m---------------------------------------------------------------------------\u001b[0m",
      "\u001b[1;31mTypeError\u001b[0m                                 Traceback (most recent call last)",
      "\u001b[1;32m~\\AppData\\Local\\Temp\\ipykernel_19900\\4262128887.py\u001b[0m in \u001b[0;36m<module>\u001b[1;34m\u001b[0m\n\u001b[0;32m      1\u001b[0m \u001b[0mheight\u001b[0m \u001b[1;33m=\u001b[0m \u001b[1;33m[\u001b[0m\u001b[1;36m1.75\u001b[0m\u001b[1;33m,\u001b[0m \u001b[1;36m1.68\u001b[0m\u001b[1;33m,\u001b[0m \u001b[1;36m1.8\u001b[0m\u001b[1;33m,\u001b[0m \u001b[1;36m1.81\u001b[0m\u001b[1;33m,\u001b[0m \u001b[1;36m1.69\u001b[0m\u001b[1;33m]\u001b[0m\u001b[1;33m\u001b[0m\u001b[1;33m\u001b[0m\u001b[0m\n\u001b[0;32m      2\u001b[0m \u001b[0mweight\u001b[0m \u001b[1;33m=\u001b[0m \u001b[1;33m[\u001b[0m\u001b[1;36m66.4\u001b[0m\u001b[1;33m,\u001b[0m \u001b[1;36m49.22\u001b[0m\u001b[1;33m,\u001b[0m \u001b[1;36m66.3\u001b[0m\u001b[1;33m,\u001b[0m \u001b[1;36m88.56\u001b[0m\u001b[1;33m,\u001b[0m \u001b[1;36m65.4\u001b[0m\u001b[1;33m]\u001b[0m\u001b[1;33m\u001b[0m\u001b[1;33m\u001b[0m\u001b[0m\n\u001b[1;32m----> 3\u001b[1;33m \u001b[0mweight\u001b[0m\u001b[1;33m/\u001b[0m\u001b[0mheight\u001b[0m\u001b[1;33m**\u001b[0m\u001b[1;36m2\u001b[0m\u001b[1;33m\u001b[0m\u001b[1;33m\u001b[0m\u001b[0m\n\u001b[0m",
      "\u001b[1;31mTypeError\u001b[0m: unsupported operand type(s) for ** or pow(): 'list' and 'int'"
     ]
    }
   ],
   "source": [
    "height = [1.75, 1.68, 1.8, 1.81, 1.69]\n",
    "weight = [66.4, 49.22, 66.3, 88.56, 65.4]\n",
    "weight/height**2\n",
    "#tidak akan bisa"
   ]
  },
  {
   "cell_type": "code",
   "execution_count": 58,
   "id": "2dc43d75-a45d-4f9f-a052-ebb9cf92ec08",
   "metadata": {},
   "outputs": [],
   "source": [
    "import numpy as np"
   ]
  },
  {
   "cell_type": "code",
   "execution_count": 59,
   "id": "c1a22732-4076-4401-b8b2-b7e3d0a09aac",
   "metadata": {},
   "outputs": [
    {
     "name": "stdout",
     "output_type": "stream",
     "text": [
      "[21.68163265 17.43905896 20.46296296 27.03214188 22.8983579 ]\n"
     ]
    }
   ],
   "source": [
    "height = [1.75, 1.68, 1.8, 1.81, 1.69]\n",
    "weight = [66.4, 49.22, 66.3, 88.56, 65.4]\n",
    "np_height = np.array(height)\n",
    "np_weight = np.array(weight)\n",
    "bmi = np_weight/np_height**2\n",
    "print(bmi)"
   ]
  },
  {
   "cell_type": "markdown",
   "id": "554a4868-9322-4643-aca2-33e1d60abf73",
   "metadata": {},
   "source": [
    "### numpy array dengan tipe data yang berbeda"
   ]
  },
  {
   "cell_type": "code",
   "execution_count": 60,
   "id": "aa47b341-1a8c-49cf-bb82-7dcf91005f38",
   "metadata": {},
   "outputs": [
    {
     "name": "stdout",
     "output_type": "stream",
     "text": [
      "['1.0' 'is' 'True']\n"
     ]
    }
   ],
   "source": [
    "mixed_array=np.array([1.0, 'is', True])\n",
    "print(mixed_array)"
   ]
  },
  {
   "cell_type": "code",
   "execution_count": 61,
   "id": "ec8c8826-103f-44a1-85c6-d0dd6effa916",
   "metadata": {},
   "outputs": [
    {
     "data": {
      "text/plain": [
       "[1, 2, 3, 1, 2, 3]"
      ]
     },
     "execution_count": 61,
     "metadata": {},
     "output_type": "execute_result"
    }
   ],
   "source": [
    "numlist = [1,2,3]\n",
    "nparray=np.array([1,2,3])\n",
    "numlist+numlist"
   ]
  },
  {
   "cell_type": "code",
   "execution_count": 62,
   "id": "e0ecfed9-ba2a-4b2d-9add-5dadbf2cb5c5",
   "metadata": {},
   "outputs": [
    {
     "data": {
      "text/plain": [
       "array([False, False, False,  True, False])"
      ]
     },
     "execution_count": 62,
     "metadata": {},
     "output_type": "execute_result"
    }
   ],
   "source": [
    "bmi>24"
   ]
  },
  {
   "cell_type": "code",
   "execution_count": 63,
   "id": "8d419d59-9be9-4a3b-8960-af0cfe9a1c68",
   "metadata": {},
   "outputs": [
    {
     "data": {
      "text/plain": [
       "array([27.03214188])"
      ]
     },
     "execution_count": 63,
     "metadata": {},
     "output_type": "execute_result"
    }
   ],
   "source": [
    "bmi[bmi>24]"
   ]
  },
  {
   "cell_type": "markdown",
   "id": "a9f10486-ed0e-40a1-aa0d-09babbeb56d9",
   "metadata": {},
   "source": [
    "## NumPy Array 2D"
   ]
  },
  {
   "cell_type": "code",
   "execution_count": null,
   "id": "8234b492-8077-401e-a6d6-0f814aad6f32",
   "metadata": {},
   "outputs": [],
   "source": []
  },
  {
   "cell_type": "markdown",
   "id": "de96a314-cb0b-4b7f-bb7a-89ed502f9938",
   "metadata": {},
   "source": [
    "## Statistik Dasar dengan NumPy"
   ]
  },
  {
   "cell_type": "code",
   "execution_count": 64,
   "id": "9fd30ebd-5490-4b26-bec8-493e632e1147",
   "metadata": {},
   "outputs": [
    {
     "data": {
      "text/plain": [
       "array([1.48, 1.33, 1.55, ..., 1.83, 2.03, 2.25])"
      ]
     },
     "execution_count": 64,
     "metadata": {},
     "output_type": "execute_result"
    }
   ],
   "source": [
    "height = np.round(np.random.normal(1.75, 0.2, 5000), 2)\n",
    "height"
   ]
  },
  {
   "cell_type": "code",
   "execution_count": 65,
   "id": "8f6bda17-5725-4445-a96b-bc5ea7b829a5",
   "metadata": {},
   "outputs": [
    {
     "data": {
      "text/plain": [
       "5000"
      ]
     },
     "execution_count": 65,
     "metadata": {},
     "output_type": "execute_result"
    }
   ],
   "source": [
    "len(height) #melihat panjang datanya"
   ]
  },
  {
   "cell_type": "code",
   "execution_count": 66,
   "id": "088acbdf-3d73-4fd5-bb20-ac1d9fcd2ca5",
   "metadata": {},
   "outputs": [
    {
     "data": {
      "text/plain": [
       "array([62.08, 72.22, 54.35, ..., 64.75, 42.51, 38.65])"
      ]
     },
     "execution_count": 66,
     "metadata": {},
     "output_type": "execute_result"
    }
   ],
   "source": [
    "weight = np.round(np.random.normal(60.32, 15, 5000), 2)\n",
    "weight"
   ]
  },
  {
   "cell_type": "code",
   "execution_count": 67,
   "id": "d70ee5c2-4556-4862-9fa3-0a9214502020",
   "metadata": {},
   "outputs": [
    {
     "data": {
      "text/plain": [
       "5000"
      ]
     },
     "execution_count": 67,
     "metadata": {},
     "output_type": "execute_result"
    }
   ],
   "source": [
    "len(weight)"
   ]
  },
  {
   "cell_type": "code",
   "execution_count": 68,
   "id": "5e675563-905d-4ace-807b-c3036a44de30",
   "metadata": {},
   "outputs": [
    {
     "data": {
      "text/plain": [
       "1.753122"
      ]
     },
     "execution_count": 68,
     "metadata": {},
     "output_type": "execute_result"
    }
   ],
   "source": [
    "np_city = np.column_stack((height, weight))\n",
    "np.mean(np_city[:,0])"
   ]
  },
  {
   "cell_type": "code",
   "execution_count": 69,
   "id": "296f331c-d600-4160-ad52-2ab5dbb97f03",
   "metadata": {},
   "outputs": [
    {
     "data": {
      "text/plain": [
       "1.75"
      ]
     },
     "execution_count": 69,
     "metadata": {},
     "output_type": "execute_result"
    }
   ],
   "source": [
    "np.median(np_city[:,0])"
   ]
  },
  {
   "cell_type": "code",
   "execution_count": 70,
   "id": "f00fc28a-249b-4554-9a49-3466fe4e6ed7",
   "metadata": {},
   "outputs": [
    {
     "data": {
      "text/plain": [
       "0.2004989603863322"
      ]
     },
     "execution_count": 70,
     "metadata": {},
     "output_type": "execute_result"
    }
   ],
   "source": [
    "np.std(np_city[:,0])"
   ]
  },
  {
   "cell_type": "markdown",
   "id": "0f3c3a7f-bd3b-457c-8a2c-c3d3d288532f",
   "metadata": {},
   "source": [
    "# NumPy Array 2D"
   ]
  },
  {
   "cell_type": "code",
   "execution_count": 2,
   "id": "ae8cee52-cfe6-4809-9e0c-d65d62f47e17",
   "metadata": {},
   "outputs": [],
   "source": [
    "import numpy as np"
   ]
  },
  {
   "cell_type": "code",
   "execution_count": 4,
   "id": "28ca2bb4-41fd-416e-b7dd-369cb8bc43f0",
   "metadata": {},
   "outputs": [],
   "source": [
    "height = np.array([1.75, 1.68, 1.8])\n",
    "weight = np.array([66.4, 49.22, 66.3])"
   ]
  },
  {
   "cell_type": "code",
   "execution_count": 5,
   "id": "f3cb4162-6881-447d-aedc-2ddf54f37923",
   "metadata": {},
   "outputs": [
    {
     "data": {
      "text/plain": [
       "numpy.ndarray"
      ]
     },
     "execution_count": 5,
     "metadata": {},
     "output_type": "execute_result"
    }
   ],
   "source": [
    "type(height)"
   ]
  },
  {
   "cell_type": "markdown",
   "id": "b943652c-bd82-4ae6-8233-3d50f22873e2",
   "metadata": {},
   "source": [
    "## 1 Array 2D"
   ]
  },
  {
   "cell_type": "code",
   "execution_count": 6,
   "id": "33e65b78-2337-461a-a081-7c971c3772c5",
   "metadata": {},
   "outputs": [],
   "source": [
    "np_2d = np.array([[1.75, 1.68, 1.8],\n",
    "                 [66.4, 49.22, 66.3]])"
   ]
  },
  {
   "cell_type": "code",
   "execution_count": 7,
   "id": "f1203566-984c-4f21-95b5-59191984ea57",
   "metadata": {},
   "outputs": [
    {
     "data": {
      "text/plain": [
       "array([[ 1.75,  1.68,  1.8 ],\n",
       "       [66.4 , 49.22, 66.3 ]])"
      ]
     },
     "execution_count": 7,
     "metadata": {},
     "output_type": "execute_result"
    }
   ],
   "source": [
    "np_2d"
   ]
  },
  {
   "cell_type": "markdown",
   "id": "63b07d01-9119-481a-b136-20b625096e28",
   "metadata": {},
   "source": [
    "### melihat berapa baris, berapa kolom"
   ]
  },
  {
   "cell_type": "code",
   "execution_count": 8,
   "id": "12abd301-febf-4cb3-95eb-9411d3b34011",
   "metadata": {},
   "outputs": [
    {
     "data": {
      "text/plain": [
       "(2, 3)"
      ]
     },
     "execution_count": 8,
     "metadata": {},
     "output_type": "execute_result"
    }
   ],
   "source": [
    "np_2d.shape"
   ]
  },
  {
   "cell_type": "markdown",
   "id": "86c10662-24ea-4848-9b58-d9f6fe26b7a1",
   "metadata": {},
   "source": [
    "### mengambil baris pertama/salah satu"
   ]
  },
  {
   "cell_type": "code",
   "execution_count": 9,
   "id": "d505f4b3-dc1a-4e95-9c43-18042abda73c",
   "metadata": {},
   "outputs": [
    {
     "data": {
      "text/plain": [
       "array([1.75, 1.68, 1.8 ])"
      ]
     },
     "execution_count": 9,
     "metadata": {},
     "output_type": "execute_result"
    }
   ],
   "source": [
    "np_2d[0]"
   ]
  },
  {
   "cell_type": "code",
   "execution_count": 10,
   "id": "2f6abb63-961e-4a7c-90aa-7a6eafcc1497",
   "metadata": {},
   "outputs": [
    {
     "data": {
      "text/plain": [
       "1.8"
      ]
     },
     "execution_count": 10,
     "metadata": {},
     "output_type": "execute_result"
    }
   ],
   "source": [
    "np_2d[0][2]"
   ]
  },
  {
   "cell_type": "code",
   "execution_count": 11,
   "id": "8b26f5d2-74e2-417f-a420-62ee1c091ef6",
   "metadata": {},
   "outputs": [
    {
     "data": {
      "text/plain": [
       "array([[ 1.68,  1.8 ],\n",
       "       [49.22, 66.3 ]])"
      ]
     },
     "execution_count": 11,
     "metadata": {},
     "output_type": "execute_result"
    }
   ],
   "source": [
    "np_2d[:,1:3]"
   ]
  },
  {
   "cell_type": "code",
   "execution_count": 13,
   "id": "00521f63-0f3e-49e6-be4c-6510824684dc",
   "metadata": {},
   "outputs": [
    {
     "data": {
      "text/plain": [
       "array([66.4 , 49.22, 66.3 ])"
      ]
     },
     "execution_count": 13,
     "metadata": {},
     "output_type": "execute_result"
    }
   ],
   "source": [
    "np_2d[1,:] #baris kedua aja"
   ]
  },
  {
   "cell_type": "code",
   "execution_count": 14,
   "id": "caa5147c-f9ab-4636-a14f-3afddfcdb0e1",
   "metadata": {},
   "outputs": [
    {
     "name": "stdout",
     "output_type": "stream",
     "text": [
      "['idaz' 'anggara']\n"
     ]
    }
   ],
   "source": [
    "names = np.array([['idaz','anggara'],\n",
    "                 ['dear','kurniawan']])\n",
    "print(names[0])"
   ]
  },
  {
   "cell_type": "code",
   "execution_count": 17,
   "id": "b78cd7d2-6478-4b25-bc75-6b49ff10dce8",
   "metadata": {},
   "outputs": [
    {
     "data": {
      "text/plain": [
       "'27'"
      ]
     },
     "execution_count": 17,
     "metadata": {},
     "output_type": "execute_result"
    }
   ],
   "source": [
    "student = {1: {'name':'idaz', 'age':'27', 'sex':'male'},\n",
    "          2: {'name':'emma', 'age':'22', 'sex':'female'}}\n",
    "student[1]['age']"
   ]
  },
  {
   "cell_type": "code",
   "execution_count": 18,
   "id": "296133f2-af01-4f76-b872-3f15e32af828",
   "metadata": {},
   "outputs": [
    {
     "name": "stdout",
     "output_type": "stream",
     "text": [
      "kode\n"
     ]
    }
   ],
   "source": [
    "people = ('kode', ('dev', 'manager'))\n",
    "print(people[0])"
   ]
  },
  {
   "cell_type": "code",
   "execution_count": 23,
   "id": "b70040d3-211c-471e-b4e2-7bd8fb3905da",
   "metadata": {},
   "outputs": [
    {
     "data": {
      "text/plain": [
       "'kode'"
      ]
     },
     "execution_count": 23,
     "metadata": {},
     "output_type": "execute_result"
    }
   ],
   "source": [
    "student = {'name':'kode','age':13}\n",
    "student['name']"
   ]
  },
  {
   "cell_type": "markdown",
   "id": "bc067e6f-dcf4-4657-b888-63a69fbd2545",
   "metadata": {},
   "source": [
    "## nadia syachrani"
   ]
  },
  {
   "cell_type": "code",
   "execution_count": null,
   "id": "0c3412a5-2705-466f-8d20-481178e18709",
   "metadata": {},
   "outputs": [],
   "source": []
  }
 ],
 "metadata": {
  "kernelspec": {
   "display_name": "Python 3 (ipykernel)",
   "language": "python",
   "name": "python3"
  },
  "language_info": {
   "codemirror_mode": {
    "name": "ipython",
    "version": 3
   },
   "file_extension": ".py",
   "mimetype": "text/x-python",
   "name": "python",
   "nbconvert_exporter": "python",
   "pygments_lexer": "ipython3",
   "version": "3.9.13"
  }
 },
 "nbformat": 4,
 "nbformat_minor": 5
}

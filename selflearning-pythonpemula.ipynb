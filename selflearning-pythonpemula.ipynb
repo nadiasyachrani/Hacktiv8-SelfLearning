{
 "cells": [
  {
   "cell_type": "markdown",
   "id": "0cb48d5b-d943-4f32-9efb-04fc3f601d79",
   "metadata": {},
   "source": [
    "# MENGUASAI PYTHON TINGKAT PEMULA"
   ]
  },
  {
   "cell_type": "markdown",
   "id": "9361ab79-5f27-4ce4-83f9-76e88433e355",
   "metadata": {
    "tags": []
   },
   "source": [
    "# LIST"
   ]
  },
  {
   "cell_type": "code",
   "execution_count": 1,
   "id": "e1bf5be1-1dfe-41c7-b7ae-d43dae47a351",
   "metadata": {},
   "outputs": [
    {
     "name": "stdout",
     "output_type": "stream",
     "text": [
      "[1, 2, 3]\n"
     ]
    }
   ],
   "source": [
    "my_list=[1,2,3]\n",
    "print(my_list)"
   ]
  },
  {
   "cell_type": "code",
   "execution_count": 2,
   "id": "9abbee9d-bc72-43b2-9f9d-1b4b2e926257",
   "metadata": {},
   "outputs": [
    {
     "name": "stdout",
     "output_type": "stream",
     "text": [
      "[1, 2, 3]\n"
     ]
    }
   ],
   "source": [
    "my_list + [4,5]\n",
    "print(my_list)"
   ]
  },
  {
   "cell_type": "code",
   "execution_count": 3,
   "id": "11e6bae4-1373-4461-820b-2c0b4288e164",
   "metadata": {},
   "outputs": [
    {
     "name": "stdout",
     "output_type": "stream",
     "text": [
      "[1, 2, 3, 1, 2, 3]\n"
     ]
    }
   ],
   "source": [
    "print(my_list * 2)"
   ]
  },
  {
   "cell_type": "code",
   "execution_count": 13,
   "id": "1dc3b945-d78b-42be-8ae2-b2668354c140",
   "metadata": {},
   "outputs": [
    {
     "name": "stdout",
     "output_type": "stream",
     "text": [
      "[1, 2, 3, 4, 4]\n"
     ]
    }
   ],
   "source": [
    "my_list.append(4)\n",
    "print(my_list)"
   ]
  },
  {
   "cell_type": "code",
   "execution_count": 14,
   "id": "64e84d71-657a-4d61-8f43-e48b24cad751",
   "metadata": {},
   "outputs": [
    {
     "name": "stdout",
     "output_type": "stream",
     "text": [
      "[1, 2, 3]\n"
     ]
    }
   ],
   "source": [
    "my_list=[1,2,3]\n",
    "print(my_list)"
   ]
  },
  {
   "cell_type": "code",
   "execution_count": 15,
   "id": "3d4cafad-fa2c-4ebf-820b-e8710c94ac4a",
   "metadata": {},
   "outputs": [
    {
     "name": "stdout",
     "output_type": "stream",
     "text": [
      "[1, 2, 3, 4, 5, 6]\n"
     ]
    }
   ],
   "source": [
    "my_list.extend([4,5,6])\n",
    "print(my_list)"
   ]
  },
  {
   "cell_type": "code",
   "execution_count": 18,
   "id": "fb655670-a716-4afd-9acf-8c02cc7c3996",
   "metadata": {},
   "outputs": [
    {
     "name": "stdout",
     "output_type": "stream",
     "text": [
      "[1, 2, 3, 6]\n"
     ]
    }
   ],
   "source": [
    "my_list.remove(5)\n",
    "print(my_list)"
   ]
  },
  {
   "cell_type": "markdown",
   "id": "55eb1399-73c0-47c5-a729-5267f87879ad",
   "metadata": {},
   "source": [
    "# DICTIONARIES"
   ]
  },
  {
   "cell_type": "code",
   "execution_count": 1,
   "id": "c98be79a-ef36-44f7-b930-dda91c66d947",
   "metadata": {},
   "outputs": [
    {
     "data": {
      "text/plain": [
       "{'name': 'nadia', 'age': 20}"
      ]
     },
     "execution_count": 1,
     "metadata": {},
     "output_type": "execute_result"
    }
   ],
   "source": [
    "student = {'name':'nadia','age':20}\n",
    "student"
   ]
  },
  {
   "cell_type": "code",
   "execution_count": 2,
   "id": "139c3f3b-581f-47ee-aae8-8a58ed53a2a7",
   "metadata": {},
   "outputs": [
    {
     "data": {
      "text/plain": [
       "{'cto': {'name': 'nadia', 'age': 20}}"
      ]
     },
     "execution_count": 2,
     "metadata": {},
     "output_type": "execute_result"
    }
   ],
   "source": [
    "employee = {'cto':{'name':'nadia','age':20}}\n",
    "employee"
   ]
  },
  {
   "cell_type": "code",
   "execution_count": 3,
   "id": "f301fc42-a71d-4ccd-b35f-251bd22a309a",
   "metadata": {},
   "outputs": [
    {
     "data": {
      "text/plain": [
       "{'name': 'dia', 'age': 22}"
      ]
     },
     "execution_count": 3,
     "metadata": {},
     "output_type": "execute_result"
    }
   ],
   "source": [
    "student = dict(name='dia',age=22)\n",
    "student"
   ]
  },
  {
   "cell_type": "code",
   "execution_count": 5,
   "id": "e11c415c-1807-4e7e-a2a3-3f85671efc3f",
   "metadata": {},
   "outputs": [
    {
     "name": "stdout",
     "output_type": "stream",
     "text": [
      "dia\n"
     ]
    }
   ],
   "source": [
    "print(student['name'])"
   ]
  },
  {
   "cell_type": "code",
   "execution_count": 6,
   "id": "21931967-f23b-4c98-a382-f3ed0757f480",
   "metadata": {},
   "outputs": [
    {
     "name": "stdout",
     "output_type": "stream",
     "text": [
      "{'name': 'dia'}\n"
     ]
    }
   ],
   "source": [
    "del student['age']\n",
    "print(student)"
   ]
  },
  {
   "cell_type": "code",
   "execution_count": 8,
   "id": "771230bc-2d82-4821-8831-9d6a4e17957a",
   "metadata": {},
   "outputs": [
    {
     "name": "stdout",
     "output_type": "stream",
     "text": [
      "dict_keys(['name', 'age'])\n"
     ]
    }
   ],
   "source": [
    "student = {'name':'nadia','age':20}\n",
    "print(student.keys())"
   ]
  },
  {
   "cell_type": "code",
   "execution_count": 9,
   "id": "e8f67994-3dc1-48f9-ab9a-cf796752cd8a",
   "metadata": {},
   "outputs": [
    {
     "name": "stdout",
     "output_type": "stream",
     "text": [
      "dict_values(['nadia', 20])\n"
     ]
    }
   ],
   "source": [
    "print(student.values())"
   ]
  },
  {
   "cell_type": "markdown",
   "id": "b521050f-f00e-4d26-9751-59166aeaef45",
   "metadata": {},
   "source": [
    "# TUPLES"
   ]
  },
  {
   "cell_type": "code",
   "execution_count": 10,
   "id": "d05e84f3-eea3-4831-9c58-2799193df8e9",
   "metadata": {},
   "outputs": [
    {
     "name": "stdout",
     "output_type": "stream",
     "text": [
      "('nadia', ('kode', 'random'))\n"
     ]
    }
   ],
   "source": [
    "people=('nadia',('kode','random'))\n",
    "print(people)"
   ]
  },
  {
   "cell_type": "code",
   "execution_count": 11,
   "id": "ac9ca883-3552-4dc1-aaf9-afe4d27c707e",
   "metadata": {},
   "outputs": [
    {
     "name": "stdout",
     "output_type": "stream",
     "text": [
      "nadia\n"
     ]
    }
   ],
   "source": [
    "print(people[0])"
   ]
  },
  {
   "cell_type": "code",
   "execution_count": 12,
   "id": "18ea6a45-04eb-4416-87cb-635181f51084",
   "metadata": {},
   "outputs": [
    {
     "name": "stdout",
     "output_type": "stream",
     "text": [
      "('kode', 'random')\n"
     ]
    }
   ],
   "source": [
    "print(people[1])"
   ]
  },
  {
   "cell_type": "code",
   "execution_count": 13,
   "id": "937ba269-b5b5-4003-8ce7-15ab447de0de",
   "metadata": {},
   "outputs": [
    {
     "name": "stdout",
     "output_type": "stream",
     "text": [
      "kode\n"
     ]
    }
   ],
   "source": [
    "print(people[1][0])"
   ]
  },
  {
   "cell_type": "markdown",
   "id": "eb019570-f616-4a41-b07e-406534ad7e85",
   "metadata": {},
   "source": [
    "## slicing"
   ]
  },
  {
   "cell_type": "code",
   "execution_count": 14,
   "id": "0d70bd98-40ba-404e-905f-b38d711ebff0",
   "metadata": {},
   "outputs": [
    {
     "name": "stdout",
     "output_type": "stream",
     "text": [
      "(1, (2, 3))\n"
     ]
    }
   ],
   "source": [
    "numbers=(1,2,3,4)\n",
    "new_numbers=numbers[0], numbers[1:3]\n",
    "print(new_numbers)"
   ]
  },
  {
   "cell_type": "markdown",
   "id": "96c69bd8-fc6a-427f-96d2-f735f1367998",
   "metadata": {},
   "source": [
    "## sorting"
   ]
  },
  {
   "cell_type": "code",
   "execution_count": 15,
   "id": "f3d9fa7c-fa8e-4e60-aa4e-6f67149a94f4",
   "metadata": {},
   "outputs": [
    {
     "name": "stdout",
     "output_type": "stream",
     "text": [
      "['bcc', 'body', 'cc', 'from', 'subject', 'to']\n"
     ]
    }
   ],
   "source": [
    "email_attr=('to','from','cc','bcc','subject','body')\n",
    "email_attr_list=list(email_attr)\n",
    "email_attr_list.sort()\n",
    "print(email_attr_list)"
   ]
  },
  {
   "cell_type": "markdown",
   "id": "303a6724-4fb5-4c24-bb16-0497fbff62f8",
   "metadata": {},
   "source": [
    "# FILES"
   ]
  },
  {
   "cell_type": "code",
   "execution_count": 16,
   "id": "5afe84b5-cbaf-417e-b2a6-bd5ace2707f5",
   "metadata": {},
   "outputs": [],
   "source": [
    "myfile=open('nad.txt','w')"
   ]
  },
  {
   "cell_type": "markdown",
   "id": "796381c8-9643-4f0e-b434-282f05987f9d",
   "metadata": {},
   "source": [
    "### menambahkan text didalam file"
   ]
  },
  {
   "cell_type": "code",
   "execution_count": 17,
   "id": "3c1ab0cf-977e-4ebf-835f-18b345b425a3",
   "metadata": {},
   "outputs": [
    {
     "data": {
      "text/plain": [
       "9"
      ]
     },
     "execution_count": 17,
     "metadata": {},
     "output_type": "execute_result"
    }
   ],
   "source": [
    "myfile.write('hei you!\\n')"
   ]
  },
  {
   "cell_type": "code",
   "execution_count": 18,
   "id": "4e4ff926-164d-4999-b94e-f2f3baf5d966",
   "metadata": {},
   "outputs": [
    {
     "data": {
      "text/plain": [
       "9"
      ]
     },
     "execution_count": 18,
     "metadata": {},
     "output_type": "execute_result"
    }
   ],
   "source": [
    "myfile.write('see you!\\n')"
   ]
  },
  {
   "cell_type": "markdown",
   "id": "64a24bb0-2a01-4a57-a2c3-8073793160eb",
   "metadata": {},
   "source": [
    "### menutup file"
   ]
  },
  {
   "cell_type": "code",
   "execution_count": 19,
   "id": "6c1b6a5f-49b5-4465-8f86-657ebb81d8f6",
   "metadata": {},
   "outputs": [],
   "source": [
    "myfile.close()"
   ]
  },
  {
   "cell_type": "markdown",
   "id": "b82cc0a2-a9f5-45da-a95c-fdd10b2d5999",
   "metadata": {},
   "source": [
    "### membuka kembali file"
   ]
  },
  {
   "cell_type": "code",
   "execution_count": 20,
   "id": "4e709029-5347-4ab3-a89d-dc2b2b7c77fa",
   "metadata": {},
   "outputs": [],
   "source": [
    "myfile=open('nad.txt')"
   ]
  },
  {
   "cell_type": "code",
   "execution_count": 21,
   "id": "40b96201-404f-4c66-a284-da74732eb136",
   "metadata": {},
   "outputs": [
    {
     "data": {
      "text/plain": [
       "'hei you!\\n'"
      ]
     },
     "execution_count": 21,
     "metadata": {},
     "output_type": "execute_result"
    }
   ],
   "source": [
    "myfile.readline()"
   ]
  },
  {
   "cell_type": "code",
   "execution_count": 22,
   "id": "47a2a76b-9a87-4732-87aa-e3cc454cab3a",
   "metadata": {},
   "outputs": [
    {
     "data": {
      "text/plain": [
       "'see you!\\n'"
      ]
     },
     "execution_count": 22,
     "metadata": {},
     "output_type": "execute_result"
    }
   ],
   "source": [
    "myfile.readline()"
   ]
  },
  {
   "cell_type": "markdown",
   "id": "7e47b328-49b5-4890-81e9-881110d4d9fd",
   "metadata": {},
   "source": [
    "### membaca isi file secara keseluruhan"
   ]
  },
  {
   "cell_type": "code",
   "execution_count": 23,
   "id": "2868fcb6-26ff-4d28-80de-28a871ca1c28",
   "metadata": {},
   "outputs": [
    {
     "data": {
      "text/plain": [
       "'hei you!\\nsee you!\\n'"
      ]
     },
     "execution_count": 23,
     "metadata": {},
     "output_type": "execute_result"
    }
   ],
   "source": [
    "open('nad.txt').read()"
   ]
  },
  {
   "cell_type": "code",
   "execution_count": 24,
   "id": "14fb4507-dac9-4021-9180-55ccfe577334",
   "metadata": {},
   "outputs": [
    {
     "name": "stdout",
     "output_type": "stream",
     "text": [
      "hei you!\n",
      "see you!\n",
      "\n"
     ]
    }
   ],
   "source": [
    "print(open('nad.txt').read())"
   ]
  },
  {
   "cell_type": "markdown",
   "id": "b5a963fb-78b5-4054-be13-e3215daf8064",
   "metadata": {},
   "source": [
    "### menambahkan isi file dengan berbagai tipe data"
   ]
  },
  {
   "cell_type": "code",
   "execution_count": 25,
   "id": "e45f8822-453d-4f5d-a99d-bf0770c7c342",
   "metadata": {},
   "outputs": [
    {
     "data": {
      "text/plain": [
       "5"
      ]
     },
     "execution_count": 25,
     "metadata": {},
     "output_type": "execute_result"
    }
   ],
   "source": [
    "x,y,z=43,44,45\n",
    "message='spam'\n",
    "data={'a':1,'b':2}\n",
    "list=[1,2,3]\n",
    "file=open('nad.txt','w')\n",
    "file.write(message + '\\n')"
   ]
  },
  {
   "cell_type": "code",
   "execution_count": 28,
   "id": "46a30115-4910-4dfe-9eed-9b91744f37ce",
   "metadata": {},
   "outputs": [
    {
     "data": {
      "text/plain": [
       "9"
      ]
     },
     "execution_count": 28,
     "metadata": {},
     "output_type": "execute_result"
    }
   ],
   "source": [
    "file.write('%s,%s,%s\\n' % (x,y,z))"
   ]
  },
  {
   "cell_type": "code",
   "execution_count": 29,
   "id": "84a8742c-c9e2-4212-a162-85f7ac12c937",
   "metadata": {},
   "outputs": [
    {
     "data": {
      "text/plain": [
       "27"
      ]
     },
     "execution_count": 29,
     "metadata": {},
     "output_type": "execute_result"
    }
   ],
   "source": [
    "file.write(str(list) + '$' + str(data) + '\\n')"
   ]
  },
  {
   "cell_type": "code",
   "execution_count": 30,
   "id": "7ec71b55-5edc-4961-ba4a-25c3c37f0c83",
   "metadata": {},
   "outputs": [],
   "source": [
    "file.close()"
   ]
  },
  {
   "cell_type": "markdown",
   "id": "93202ca6-4a26-4241-a604-ba18656a5c9a",
   "metadata": {},
   "source": [
    "# WHILE LOOPS"
   ]
  },
  {
   "cell_type": "code",
   "execution_count": 1,
   "id": "b7d61738-c4a2-48ab-b290-676632b75707",
   "metadata": {},
   "outputs": [
    {
     "name": "stdout",
     "output_type": "stream",
     "text": [
      "spam pam am m "
     ]
    }
   ],
   "source": [
    "message = \"spam\"\n",
    "while message != \"\":\n",
    "    print(message, end=\" \")\n",
    "    message=message[1:]"
   ]
  },
  {
   "cell_type": "code",
   "execution_count": 2,
   "id": "39bc096e-0ea7-48a8-8450-72e00ecdae65",
   "metadata": {},
   "outputs": [
    {
     "name": "stdout",
     "output_type": "stream",
     "text": [
      "0 1 2 3 4 5 6 7 8 9 10 11 12 "
     ]
    }
   ],
   "source": [
    "a=0\n",
    "b=13\n",
    "while a<b:\n",
    "    print(a, end=\" \")\n",
    "    a=a+1"
   ]
  },
  {
   "cell_type": "code",
   "execution_count": 4,
   "id": "fa84e2f4-8c86-45a5-9764-85cc84e336e6",
   "metadata": {},
   "outputs": [
    {
     "name": "stdin",
     "output_type": "stream",
     "text": [
      "enter name :  nadia\n",
      "enter age :  20\n"
     ]
    },
    {
     "name": "stdout",
     "output_type": "stream",
     "text": [
      "hello nadia => 400\n"
     ]
    },
    {
     "name": "stdin",
     "output_type": "stream",
     "text": [
      "enter name :  dia\n",
      "enter age :  22\n"
     ]
    },
    {
     "name": "stdout",
     "output_type": "stream",
     "text": [
      "hello dia => 484\n"
     ]
    },
    {
     "name": "stdin",
     "output_type": "stream",
     "text": [
      "enter name :  stop\n"
     ]
    }
   ],
   "source": [
    "while True:\n",
    "    name=input('enter name : ')\n",
    "    if name == 'stop' : break\n",
    "    age = input('enter age : ')\n",
    "    print('hello', name, '=>', int(age) ** 2)"
   ]
  },
  {
   "cell_type": "code",
   "execution_count": 5,
   "id": "42551adf-9bef-40c1-862c-47bb3aa77173",
   "metadata": {},
   "outputs": [
    {
     "name": "stdout",
     "output_type": "stream",
     "text": [
      "100\n"
     ]
    }
   ],
   "source": [
    "x=0\n",
    "while (x<100):\n",
    "    x+=2\n",
    "print(x)"
   ]
  },
  {
   "cell_type": "markdown",
   "id": "49b5b9cd-687a-4b46-a9e5-66cd26449846",
   "metadata": {},
   "source": [
    "# FOR LOOPS"
   ]
  },
  {
   "cell_type": "code",
   "execution_count": 6,
   "id": "105f79f7-55d5-4fd5-a3dc-1cceb6007302",
   "metadata": {},
   "outputs": [
    {
     "name": "stdout",
     "output_type": "stream",
     "text": [
      "I, d, a, z, "
     ]
    }
   ],
   "source": [
    "for l in 'Idaz' :\n",
    "    if l =='a':\n",
    "        pass\n",
    "    print(l, end=\", \")"
   ]
  },
  {
   "cell_type": "code",
   "execution_count": 7,
   "id": "eeb1b4a9-a0b3-46b2-ba58-ea9d16fc3689",
   "metadata": {},
   "outputs": [
    {
     "name": "stdout",
     "output_type": "stream",
     "text": [
      "nadia\n",
      "dia\n",
      "kode\n"
     ]
    }
   ],
   "source": [
    "for word in ['nadia','dia','kode']:\n",
    "    print(word, end='\\n')"
   ]
  },
  {
   "cell_type": "code",
   "execution_count": 8,
   "id": "8fb35a21-2eb0-42e2-b105-3c126332892b",
   "metadata": {},
   "outputs": [
    {
     "data": {
      "text/plain": [
       "10"
      ]
     },
     "execution_count": 8,
     "metadata": {},
     "output_type": "execute_result"
    }
   ],
   "source": [
    "sum=0\n",
    "for i in [1,2,3,4]:\n",
    "    sum = sum + i\n",
    "sum"
   ]
  },
  {
   "cell_type": "code",
   "execution_count": 9,
   "id": "11269fc3-0bca-43a1-a3c6-e2e34ddfd2d5",
   "metadata": {},
   "outputs": [
    {
     "data": {
      "text/plain": [
       "24"
      ]
     },
     "execution_count": 9,
     "metadata": {},
     "output_type": "execute_result"
    }
   ],
   "source": [
    "prod = 1\n",
    "for item in [1,2,3,4]: prod *= item\n",
    "prod"
   ]
  },
  {
   "cell_type": "code",
   "execution_count": 10,
   "id": "a1752ea5-1a1c-46d9-8ec3-2304435a4508",
   "metadata": {},
   "outputs": [
    {
     "name": "stdout",
     "output_type": "stream",
     "text": [
      "f o x y   f o x "
     ]
    }
   ],
   "source": [
    "text = 'foxy fox'\n",
    "words = ('is', 'great', 'animal')\n",
    "for chara in text: print(chara, end=' ')"
   ]
  },
  {
   "cell_type": "code",
   "execution_count": 11,
   "id": "07dd577f-80e1-4911-8a1d-145b5e2b5d47",
   "metadata": {},
   "outputs": [
    {
     "name": "stdout",
     "output_type": "stream",
     "text": [
      "is...great...animal..."
     ]
    }
   ],
   "source": [
    "for word in words: print(word, end='...')"
   ]
  },
  {
   "cell_type": "code",
   "execution_count": 12,
   "id": "7645c880-1a98-40d6-8719-58415601a93a",
   "metadata": {},
   "outputs": [
    {
     "name": "stdout",
     "output_type": "stream",
     "text": [
      "1 2\n",
      "3 4\n",
      "5 6\n"
     ]
    }
   ],
   "source": [
    "coor = [(1,2),(3,4),(5,6)]\n",
    "for (x,y) in coor: print(x,y)"
   ]
  },
  {
   "cell_type": "code",
   "execution_count": null,
   "id": "2bbf2abb-30b6-43b8-8695-dfeb08cad4cd",
   "metadata": {},
   "outputs": [],
   "source": []
  }
 ],
 "metadata": {
  "kernelspec": {
   "display_name": "Python 3 (ipykernel)",
   "language": "python",
   "name": "python3"
  },
  "language_info": {
   "codemirror_mode": {
    "name": "ipython",
    "version": 3
   },
   "file_extension": ".py",
   "mimetype": "text/x-python",
   "name": "python",
   "nbconvert_exporter": "python",
   "pygments_lexer": "ipython3",
   "version": "3.9.13"
  }
 },
 "nbformat": 4,
 "nbformat_minor": 5
}
